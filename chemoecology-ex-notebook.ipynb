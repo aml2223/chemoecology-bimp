{
 "cells": [
  {
   "cell_type": "code",
   "execution_count": 2,
   "metadata": {},
   "outputs": [],
   "source": [
    "from chemoecology_tools.core import GCMSExperiment\n",
    "from chemoecology_tools.analysis import (\n",
    "    calculate_enrichment_table,\n",
    "    perform_nmds,\n",
    "    perform_lda,\n",
    "    perform_pca,\n",
    "    perform_random_forest,\n",
    "    calculate_compositional_stats,\n",
    ")\n",
    "from chemoecology_tools.visualization import (\n",
    "    plot_nmds,\n",
    "    plot_lda,\n",
    "    plot_pca,\n",
    "    plot_rf_importance,\n",
    ")"
   ]
  },
  {
   "cell_type": "code",
   "execution_count": null,
   "metadata": {},
   "outputs": [],
   "source": [
    "USER_PROVIDED_CHEMICAL_METADATA_PATH = \"../example_data/user_provided_chemical_metadata.yaml\"\n",
    "ABUNDANCE_DATA_PATH = \"../example_data/lbal23_relative_abundance.csv\"\n",
    "USER_PROVIDED_SAMPLE_METADATA_PATH = \"../example_data/lbal23_metadata.csv\"\n",
    "ID_COLUMN = \"Bee #\"\n",
    "FILTER_DICT={\n",
    "    \"CHC File Located\": [\"NO\", \"Bleed\"],\n",
    "    \"Quality\": [\"poor\", \"contaminated\"],\n",
    "    \"Nest Code\": [\"E-JS-030\", \"E-JS-033\", \"E-JS-037\", \"E-KO-140\", \"E-KO-143\"]\n",
    "}"
   ]
  }
 ],
 "metadata": {
  "kernelspec": {
   "display_name": "Python 3",
   "language": "python",
   "name": "python3"
  },
  "language_info": {
   "codemirror_mode": {
    "name": "ipython",
    "version": 3
   },
   "file_extension": ".py",
   "mimetype": "text/x-python",
   "name": "python",
   "nbconvert_exporter": "python",
   "pygments_lexer": "ipython3",
   "version": "3.11.9"
  }
 },
 "nbformat": 4,
 "nbformat_minor": 2
}
